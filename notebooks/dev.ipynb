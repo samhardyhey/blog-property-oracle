{
 "cells": [
  {
   "cell_type": "code",
   "execution_count": null,
   "metadata": {},
   "outputs": [],
   "source": [
    "from ingest import parse_transcript\n",
    "import pandas as pd\n",
    "\n",
    "df = pd.read_csv('./data/transcripts/australian_property_podcast/2_sense_builders_going_bankrupt_what_the_rba_reshuffle_means_to_you_the_mortgage_dilemma.csv')\n",
    "df"
   ]
  },
  {
   "cell_type": "code",
   "execution_count": null,
   "metadata": {},
   "outputs": [],
   "source": [
    "file = './data/transcripts/australian_property_podcast/2_sense_builders_going_bankrupt_what_the_rba_reshuffle_means_to_you_the_mortgage_dilemma.csv'\n",
    "from ingest import MERGE_THRESHOLD\n",
    "\n",
    "pd.read_csv(file)"
   ]
  },
  {
   "attachments": {},
   "cell_type": "markdown",
   "metadata": {},
   "source": [
    "## Basic question answer"
   ]
  },
  {
   "cell_type": "code",
   "execution_count": null,
   "metadata": {},
   "outputs": [],
   "source": [
    "from llm import llm, questions\n",
    "from vectore_store.chroma import vectordb\n",
    "\n",
    "# how many docs in underlying DB\n",
    "vectordb._client._count(\"langchain\")\n"
   ]
  },
  {
   "cell_type": "code",
   "execution_count": null,
   "metadata": {},
   "outputs": [],
   "source": [
    "from langchain.chains import VectorDBQA\n",
    "from vectore_store.chroma import vectordb\n",
    "\n",
    "qa = VectorDBQA.from_chain_type(\n",
    "    llm=llm, chain_type=\"stuff\", vectorstore=vectordb\n",
    ")\n",
    "print(qa.run(questions[3]).strip())"
   ]
  },
  {
   "attachments": {},
   "cell_type": "markdown",
   "metadata": {},
   "source": [
    "## QA with source references"
   ]
  },
  {
   "cell_type": "code",
   "execution_count": null,
   "metadata": {},
   "outputs": [],
   "source": [
    "from langchain.chains import RetrievalQAWithSourcesChain\n",
    "\n",
    "chain = RetrievalQAWithSourcesChain.from_chain_type(\n",
    "    llm=llm, chain_type=\"stuff\", retriever=vectordb.as_retriever()\n",
    ")\n",
    "res = chain(\n",
    "    {\"question\": questions[0]},\n",
    "    # return_only_outputs=True,\n",
    ")\n",
    "res\n"
   ]
  },
  {
   "attachments": {},
   "cell_type": "markdown",
   "metadata": {},
   "source": [
    "## Question/answer with custom prompt"
   ]
  },
  {
   "cell_type": "code",
   "execution_count": null,
   "metadata": {},
   "outputs": [],
   "source": [
    "from langchain.chains import LLMChain\n",
    "from langchain.prompts import PromptTemplate\n",
    "\n",
    "prompt_template = \"\"\"Use the context below to write a 100 word paragraph response to the question:\n",
    "    Context: {context}\n",
    "    Question: {question}\n",
    "    Answer:\"\"\"\n",
    "\n",
    "PROMPT = PromptTemplate(\n",
    "    template=prompt_template, input_variables=[\"context\", \"question\"]\n",
    ")\n",
    "chain = LLMChain(llm=llm, prompt=PROMPT)\n",
    "\n",
    "\n",
    "def question_answer_custom_prompt(question):\n",
    "    docs = vectordb.similarity_search(question, k=10)\n",
    "    return docs\n",
    "    inputs = [{\"context\": doc.page_content, \"question\": question} for doc in docs]\n",
    "    return chain.apply(inputs)\n",
    "\n",
    "\n",
    "res = question_answer_custom_prompt(questions[-1])\n",
    "res\n"
   ]
  },
  {
   "attachments": {},
   "cell_type": "markdown",
   "metadata": {},
   "source": [
    "## Chat with docs with memory\n",
    "- use as main entry point > CLI program"
   ]
  },
  {
   "cell_type": "code",
   "execution_count": 24,
   "metadata": {},
   "outputs": [],
   "source": [
    "from langchain.memory import ConversationBufferMemory\n",
    "from langchain.embeddings.openai import OpenAIEmbeddings\n",
    "from langchain.vectorstores import Chroma\n",
    "from langchain.text_splitter import CharacterTextSplitter\n",
    "from langchain.llms import OpenAI\n",
    "from langchain.chains import ConversationalRetrievalChain\n",
    "\n",
    "memory = ConversationBufferMemory(memory_key=\"chat_history\", return_messages=True)\n",
    "qa = ConversationalRetrievalChain.from_llm(llm, vectordb.as_retriever(), memory=memory)"
   ]
  },
  {
   "cell_type": "code",
   "execution_count": 39,
   "metadata": {},
   "outputs": [
    {
     "name": "stdout",
     "output_type": "stream",
     "text": [
      "\u001b[0;31mInit signature:\u001b[0m\n",
      "\u001b[0mConversationalRetrievalChain\u001b[0m\u001b[0;34m(\u001b[0m\u001b[0;34m\u001b[0m\n",
      "\u001b[0;34m\u001b[0m    \u001b[0;34m*\u001b[0m\u001b[0;34m,\u001b[0m\u001b[0;34m\u001b[0m\n",
      "\u001b[0;34m\u001b[0m    \u001b[0mmemory\u001b[0m\u001b[0;34m:\u001b[0m \u001b[0mOptional\u001b[0m\u001b[0;34m[\u001b[0m\u001b[0mlangchain\u001b[0m\u001b[0;34m.\u001b[0m\u001b[0mschema\u001b[0m\u001b[0;34m.\u001b[0m\u001b[0mBaseMemory\u001b[0m\u001b[0;34m]\u001b[0m \u001b[0;34m=\u001b[0m \u001b[0;32mNone\u001b[0m\u001b[0;34m,\u001b[0m\u001b[0;34m\u001b[0m\n",
      "\u001b[0;34m\u001b[0m    \u001b[0mcallbacks\u001b[0m\u001b[0;34m:\u001b[0m \u001b[0mUnion\u001b[0m\u001b[0;34m[\u001b[0m\u001b[0mList\u001b[0m\u001b[0;34m[\u001b[0m\u001b[0mlangchain\u001b[0m\u001b[0;34m.\u001b[0m\u001b[0mcallbacks\u001b[0m\u001b[0;34m.\u001b[0m\u001b[0mbase\u001b[0m\u001b[0;34m.\u001b[0m\u001b[0mBaseCallbackHandler\u001b[0m\u001b[0;34m]\u001b[0m\u001b[0;34m,\u001b[0m \u001b[0mlangchain\u001b[0m\u001b[0;34m.\u001b[0m\u001b[0mcallbacks\u001b[0m\u001b[0;34m.\u001b[0m\u001b[0mbase\u001b[0m\u001b[0;34m.\u001b[0m\u001b[0mBaseCallbackManager\u001b[0m\u001b[0;34m,\u001b[0m \u001b[0mNoneType\u001b[0m\u001b[0;34m]\u001b[0m \u001b[0;34m=\u001b[0m \u001b[0;32mNone\u001b[0m\u001b[0;34m,\u001b[0m\u001b[0;34m\u001b[0m\n",
      "\u001b[0;34m\u001b[0m    \u001b[0mcallback_manager\u001b[0m\u001b[0;34m:\u001b[0m \u001b[0mOptional\u001b[0m\u001b[0;34m[\u001b[0m\u001b[0mlangchain\u001b[0m\u001b[0;34m.\u001b[0m\u001b[0mcallbacks\u001b[0m\u001b[0;34m.\u001b[0m\u001b[0mbase\u001b[0m\u001b[0;34m.\u001b[0m\u001b[0mBaseCallbackManager\u001b[0m\u001b[0;34m]\u001b[0m \u001b[0;34m=\u001b[0m \u001b[0;32mNone\u001b[0m\u001b[0;34m,\u001b[0m\u001b[0;34m\u001b[0m\n",
      "\u001b[0;34m\u001b[0m    \u001b[0mverbose\u001b[0m\u001b[0;34m:\u001b[0m \u001b[0mbool\u001b[0m \u001b[0;34m=\u001b[0m \u001b[0;32mNone\u001b[0m\u001b[0;34m,\u001b[0m\u001b[0;34m\u001b[0m\n",
      "\u001b[0;34m\u001b[0m    \u001b[0mcombine_docs_chain\u001b[0m\u001b[0;34m:\u001b[0m \u001b[0mlangchain\u001b[0m\u001b[0;34m.\u001b[0m\u001b[0mchains\u001b[0m\u001b[0;34m.\u001b[0m\u001b[0mcombine_documents\u001b[0m\u001b[0;34m.\u001b[0m\u001b[0mbase\u001b[0m\u001b[0;34m.\u001b[0m\u001b[0mBaseCombineDocumentsChain\u001b[0m\u001b[0;34m,\u001b[0m\u001b[0;34m\u001b[0m\n",
      "\u001b[0;34m\u001b[0m    \u001b[0mquestion_generator\u001b[0m\u001b[0;34m:\u001b[0m \u001b[0mlangchain\u001b[0m\u001b[0;34m.\u001b[0m\u001b[0mchains\u001b[0m\u001b[0;34m.\u001b[0m\u001b[0mllm\u001b[0m\u001b[0;34m.\u001b[0m\u001b[0mLLMChain\u001b[0m\u001b[0;34m,\u001b[0m\u001b[0;34m\u001b[0m\n",
      "\u001b[0;34m\u001b[0m    \u001b[0moutput_key\u001b[0m\u001b[0;34m:\u001b[0m \u001b[0mstr\u001b[0m \u001b[0;34m=\u001b[0m \u001b[0;34m'answer'\u001b[0m\u001b[0;34m,\u001b[0m\u001b[0;34m\u001b[0m\n",
      "\u001b[0;34m\u001b[0m    \u001b[0mreturn_source_documents\u001b[0m\u001b[0;34m:\u001b[0m \u001b[0mbool\u001b[0m \u001b[0;34m=\u001b[0m \u001b[0;32mFalse\u001b[0m\u001b[0;34m,\u001b[0m\u001b[0;34m\u001b[0m\n",
      "\u001b[0;34m\u001b[0m    \u001b[0mreturn_generated_question\u001b[0m\u001b[0;34m:\u001b[0m \u001b[0mbool\u001b[0m \u001b[0;34m=\u001b[0m \u001b[0;32mFalse\u001b[0m\u001b[0;34m,\u001b[0m\u001b[0;34m\u001b[0m\n",
      "\u001b[0;34m\u001b[0m    \u001b[0mget_chat_history\u001b[0m\u001b[0;34m:\u001b[0m \u001b[0mOptional\u001b[0m\u001b[0;34m[\u001b[0m\u001b[0mCallable\u001b[0m\u001b[0;34m[\u001b[0m\u001b[0;34m[\u001b[0m\u001b[0mUnion\u001b[0m\u001b[0;34m[\u001b[0m\u001b[0mTuple\u001b[0m\u001b[0;34m[\u001b[0m\u001b[0mstr\u001b[0m\u001b[0;34m,\u001b[0m \u001b[0mstr\u001b[0m\u001b[0;34m]\u001b[0m\u001b[0;34m,\u001b[0m \u001b[0mlangchain\u001b[0m\u001b[0;34m.\u001b[0m\u001b[0mschema\u001b[0m\u001b[0;34m.\u001b[0m\u001b[0mBaseMessage\u001b[0m\u001b[0;34m]\u001b[0m\u001b[0;34m]\u001b[0m\u001b[0;34m,\u001b[0m \u001b[0mstr\u001b[0m\u001b[0;34m]\u001b[0m\u001b[0;34m]\u001b[0m \u001b[0;34m=\u001b[0m \u001b[0;32mNone\u001b[0m\u001b[0;34m,\u001b[0m\u001b[0;34m\u001b[0m\n",
      "\u001b[0;34m\u001b[0m    \u001b[0mretriever\u001b[0m\u001b[0;34m:\u001b[0m \u001b[0mlangchain\u001b[0m\u001b[0;34m.\u001b[0m\u001b[0mschema\u001b[0m\u001b[0;34m.\u001b[0m\u001b[0mBaseRetriever\u001b[0m\u001b[0;34m,\u001b[0m\u001b[0;34m\u001b[0m\n",
      "\u001b[0;34m\u001b[0m    \u001b[0mmax_tokens_limit\u001b[0m\u001b[0;34m:\u001b[0m \u001b[0mOptional\u001b[0m\u001b[0;34m[\u001b[0m\u001b[0mint\u001b[0m\u001b[0;34m]\u001b[0m \u001b[0;34m=\u001b[0m \u001b[0;32mNone\u001b[0m\u001b[0;34m,\u001b[0m\u001b[0;34m\u001b[0m\n",
      "\u001b[0;34m\u001b[0m\u001b[0;34m)\u001b[0m \u001b[0;34m->\u001b[0m \u001b[0;32mNone\u001b[0m\u001b[0;34m\u001b[0m\u001b[0;34m\u001b[0m\u001b[0m\n",
      "\u001b[0;31mDocstring:\u001b[0m      Chain for chatting with an index.\n",
      "\u001b[0;31mInit docstring:\u001b[0m\n",
      "Create a new model by parsing and validating input data from keyword arguments.\n",
      "\n",
      "Raises ValidationError if the input data cannot be parsed to form a valid model.\n",
      "\u001b[0;31mFile:\u001b[0m           ~/miniconda/envs/p310/lib/python3.10/site-packages/langchain/chains/conversational_retrieval/base.py\n",
      "\u001b[0;31mType:\u001b[0m           ModelMetaclass\n",
      "\u001b[0;31mSubclasses:\u001b[0m     "
     ]
    }
   ],
   "source": [
    "?ConversationalRetrievalChain"
   ]
  },
  {
   "cell_type": "code",
   "execution_count": 25,
   "metadata": {},
   "outputs": [],
   "source": [
    "query = \"What important things should I be looking for when inspecting properties?\"\n",
    "result = qa({\"question\": query})\n",
    "\n",
    "query = \"How much should a building and pest inspection typically cost?\"\n",
    "result = qa({\"question\": query})"
   ]
  },
  {
   "attachments": {},
   "cell_type": "markdown",
   "metadata": {},
   "source": [
    "## Inspect preliminary retrieval"
   ]
  },
  {
   "cell_type": "code",
   "execution_count": 32,
   "metadata": {},
   "outputs": [
    {
     "data": {
      "text/plain": [
       "'What are the basic steps I need to complete before attempting to purchase property in Australia?'"
      ]
     },
     "execution_count": 32,
     "metadata": {},
     "output_type": "execute_result"
    },
    {
     "data": {
      "text/plain": [
       "[Document(page_content=\"produce some compliance documents for you and then they would lodge it with the bank, talk to the bank direct, and then get you a piece of paper that says you're pre-approved for usually 90 or 180 days depending on the bank. And that 90 or 120 days can go very quickly if all of a sudden you're sitting on this pre-approval, but you haven't put that time and effort and research into figuring out what you're going to buy because for some people they do have clarity around that, but for others, they actually have to sit back and have a think about it, but do property research. And the good thing about property research here in Australia is all of this information is actually at our fingertips. It's free. You can use realestate.com.au. The sold tab is a gold mine to see what properties are selling for and the areas you want to live in. Does that align with your expectations? Do you have to tweak things at the start? You can figure it all out beforehand. Use Google Maps to do some\", metadata={'start': 295.04, 'end': 493.52, 'podcast': 'australian_property_podcast', 'episode': '🧠_the_process_of_buying_a_property_in_australia'}),\n",
       " Document(page_content=\"property owner in Australia, you file that annual tax return. Not that complicated, I think, in Australia. Most people get the accountant to help them lodge the annual tax return. There's a couple of slight wrinkles here potentially. One is if people buy property in a trust instead of their own name. And a sort of related issue is land tax which doesn't generally have an impact on somebody buying a home but sometimes an investor buying an investment property might have some land tax to pay as well. Yeah, I think you just got to be careful with land tax because it is a state-based tax and there's certain thresholds that each individual or maybe if you buy properties as a couple then you can get two thresholds. And so it's really important that to give you an idea though you're probably going to need a fair decent asset to go over these land tax thresholds. You might be talking assets of easily a million plus to go over the land tax thresholds but it's important for you to look at each\", metadata={'start': 841.36, 'end': 1128.48, 'podcast': 'australian_property_podcast', 'episode': '🧠_tax_for_property_buyers_ft_pete_wargent_chris_bates'}),\n",
       " Document(page_content=\"a little asterisk there because in some instances, if you are purchasing before auction, for example, here in Melbourne, we have a unconditional period, three business days before and after an auction where there's no cooling off, but outside of those times, you then do technically have a cooling off period. Yes, so that's a really important point. If you're looking to buy a property adoption and when the hammer falls, if you're the highest bidder and you're the successful bidder, then effectively you're going to be taking ownership of that property. So you need to be 100% clear whether you're buying in your own name or buying jointly with a partner or buying in a trust or a different structure. If you need to have your financing in place and you need to be, as Amy said, you need to be 100% clear that you've done your building and pest inspections, your full due diligence because there's no backing out when you buy an auction. It's quite interesting, in other parts of the world, if\", metadata={'start': 42.32, 'end': 666.64, 'podcast': 'australian_property_podcast', 'episode': '🧠_the_role_of_a_buyers_agent_auctions_101_vs_private_treaty_purchases_ft_amy_lunardi_pete_wargent'}),\n",
       " Document(page_content=\"exploring. Head out there on the street and walk around and you can go to start some inspections in that research phase to get a feel for what your money buys you in that area. But do all of that first. So get emotionally ready, get financially ready. And what I mean by that is getting the savings in place and the savings habits and the deposit, et cetera. And then you get the pre-approval. And then once you've got the pre-approval, that's almost like your go ticket. Let's go and find a property now, having done the hard yards beforehand. And I think nothing's more hard yards, but also more rewarding than actually going to open homes and going to auctions and tracking your properties. And we're listed at 700 and it's sold for 850 and looking at past sales, et cetera. And get on the ground because it does take many months to get those reference points. Now, there's no big deal if your pre-approval lapses.\", metadata={'start': 295.04, 'end': 493.52, 'podcast': 'australian_property_podcast', 'episode': '🧠_the_process_of_buying_a_property_in_australia'}),\n",
       " Document(page_content=\"Madonna or Guy Ritchie, you can afford to drop 20 million on a Marilabone news house. That's fantastic. But for the average person, that's not an accessible housing market. Similarly, when I first moved to Sydney, I lived in the Eastern suburbs. And really, even as a higher income earner, in that market, I was realistically buying a unit as a first place to live. And there was a stamp duty exemption for first home buyers in Australia back then. So similar challenge, can't buy the place you want to live in. And then you've got a real decision to make, particularly as you mentioned as a home buyer, because you've got to basically buy something that fulfills your living needs for the foreseeable future. That's absolutely right. So when we're looking at purchasing a property, first of all, we need to understand any financial constraints. So whatever your budget is, whether it's $300,000 or $600 or $2 million, ultimately, that's then a case of assessing, okay, well, this is my budget at\", metadata={'start': 42.32, 'end': 610.32, 'podcast': 'australian_property_podcast', 'episode': '🧠_buying_a_property_on_a_budget_with_amy_lunardi_pete_wargent'}),\n",
       " Document(page_content=\"a lot more protection. Yes, I think as a general rule, the buying process is friendlier for buyers in Brisbane than it is in Sydney. So I'll give you a recent example of a purchase that we did in a suburb called Cooparoo in Brisbane. So just for the sake of round numbers, it was a house. It was a million dollar purchase or thereabouts. And when we made the offer, so we had the contract reviewed by the solicitor we did all our due diligence. We did all our research in terms of comparable sales. We offered a million dollars just for the sake of rounding it off to a round number. But the offer was made subject to finance and subject to a satisfactory building and pest inspection within 10 business days. So what that does, it buys you a bit of breathing space. Sometimes the bank will send through a valuer to get a professional valuation done on the property just to make sure they agree with the price that you've paid. At least that you're near enough to a fair market value. Also gives you\", metadata={'start': 973.76, 'end': 1905.76, 'podcast': 'australian_property_podcast', 'episode': '🧠_the_role_of_a_buyers_agent_auctions_101_vs_private_treaty_purchases_ft_amy_lunardi_pete_wargent'}),\n",
       " Document(page_content=\"borrow $800,000. So you don't have to lodge it with the bank. But if you, for example, down the line, you've figured out what type of property is going to suit you and you go, well, I'm serious right now. I'm going to start going to some open homes. Absolutely. Go and get yourself pre-approved. Depending on what choice of banks you have, sometimes you've got lots of choice. Every bank would take you on, or sometimes you've got two or three lenders because something in your situation is a little bit quirky or maybe it's you've got a lot of commission incomes or maybe you're on a contract or maybe it's a higher LVR or et cetera. And so you might have to, you get pre-approved with one bank, but you're not obligated to use that bank. And that pre-approval would usually last three to six months. And a broker would guide you through that process. They would say, look, we need your pay slips. We need your driver's license, your passport. We need evidence of your savings. Then they would\", metadata={'start': 295.04, 'end': 493.52, 'podcast': 'australian_property_podcast', 'episode': '🧠_the_process_of_buying_a_property_in_australia'}),\n",
       " Document(page_content=\"And you know that that's unlikely to come on. Great properties don't just come on the market. People usually try to live in them. If they do come in, then there's other people waiting like you are for those properties and they go out of budget, et cetera. And you can figure this out. This information is there. You go to the sold section. Don't stay too much in the for sale section at the start because as we all know what properties are listed for, they don't necessarily sell for. The sold section is a gold mine because if you can see properties that you can afford that you like selling in those suburbs a couple of times a month, that demonstrates you've got a feasible and achievable brief. So that's the first thing we do. We figure out what our property brief is and then we do our reality check. And then from there, we go out searching. We do online searching. We're doing that proactively every day. I'm ideally checking, setting yourself up for those alerts on realestate.com.au. But\", metadata={'start': 690.88, 'end': 1386.32, 'podcast': 'australian_property_podcast', 'episode': '🧠_the_process_of_buying_a_property_in_australia'}),\n",
       " Document(page_content=\"offer or after you make an offer is going to depend on whether it's a private sale or an auction and it's going to depend on how many terms and conditions you want in your contract how strong you want your offer to be so many different variables there but it's a crucial step in the due diligence process and before I forget true Chris always check in with your broker before you make an offer always yeah absolutely I think it's a really good decision especially in the last 12 months we've seen huge declines in borrowing capacities pre-approvals can run out they weren't getting honoured in 2022 for a stage there it was a really scary time things have changed absolutely check in with your broker and for two reasons one you've got to make sure it's pre-approved still valid and two sometimes you might be buying a property that the bank won't approve we had a really curly one just a couple of months ago where they thought it was a residential property but it was a commercial property and\", metadata={'start': 690.88, 'end': 1386.32, 'podcast': 'australian_property_podcast', 'episode': '🧠_the_process_of_buying_a_property_in_australia'}),\n",
       " Document(page_content=\"the very beginning is a good idea don't be ringing around or googling solicitors on a Friday afternoon when you've got to make an offer the next day have them there and sort of you know what their costs are and know how quickly they could do a review and if one building inspector's not free maybe you've got a backup plan if you do have to move fast so knowing who to speak to and at the right points in time is vital too so just say we've done all of our due diligence and now we're ready to to purchase the property then we go through the negotiation phase or the auction bidding phase yeah and that is again easier said than done\", metadata={'start': 690.88, 'end': 1386.32, 'podcast': 'australian_property_podcast', 'episode': '🧠_the_process_of_buying_a_property_in_australia'})]"
      ]
     },
     "execution_count": 32,
     "metadata": {},
     "output_type": "execute_result"
    }
   ],
   "source": [
    "\"What are the basic steps I need to complete before attempting to purchase property in Australia?\"\n",
    "docs = vectordb.similarity_search(questions[0], k=10)\n",
    "docs"
   ]
  },
  {
   "cell_type": "code",
   "execution_count": null,
   "metadata": {},
   "outputs": [],
   "source": [
    "from langchain.chains import LLMChain\n",
    "from langchain.chains.summarize import load_summarize_chain\n",
    "from langchain.prompts import PromptTemplate\n",
    "\n",
    "prompt_template = \"\"\"Summarize the below context in a bullet-pointed, 50 word technical analysis in response to the question. Be sure to group related bits of content into thematically relevant sections:\n",
    "    Context: {context}\n",
    "    Question: {question}\n",
    "    Answer:\"\"\"\n",
    "\n",
    "PROMPT = PromptTemplate(\n",
    "    template=prompt_template, input_variables=[\"context\", \"question\"]\n",
    ")\n",
    "chain = LLMChain(llm=llm, prompt=PROMPT)\n",
    "\n",
    "chain = load_summarize_chain(llm, chain_type=\"map_reduce\")\n",
    "\n",
    "\n",
    "def question_answer_custom_prompt(question):\n",
    "    docs = vectordb.similarity_search(question, k=10)\n",
    "    # return docs\n",
    "    return chain.run(docs)\n",
    "    # inputs = [{\"context\": doc.page_content, \"question\": question} for doc in docs]\n",
    "    # return chain.apply(inputs)\n",
    "\n",
    "res = question_answer_custom_prompt(\n",
    "    questions[0]\n",
    ")\n",
    "res\n"
   ]
  }
 ],
 "metadata": {
  "kernelspec": {
   "display_name": "p310",
   "language": "python",
   "name": "python3"
  },
  "language_info": {
   "codemirror_mode": {
    "name": "ipython",
    "version": 3
   },
   "file_extension": ".py",
   "mimetype": "text/x-python",
   "name": "python",
   "nbconvert_exporter": "python",
   "pygments_lexer": "ipython3",
   "version": "3.10.10"
  }
 },
 "nbformat": 4,
 "nbformat_minor": 2
}
