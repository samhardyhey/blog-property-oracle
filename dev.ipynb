{
 "cells": [
  {
   "attachments": {},
   "cell_type": "markdown",
   "metadata": {},
   "source": [
    "## Use audio fragment for prototyping"
   ]
  },
  {
   "cell_type": "code",
   "execution_count": null,
   "metadata": {},
   "outputs": [],
   "source": [
    "from pydub import AudioSegment\n",
    "import os\n",
    "\n",
    "# Set the paths to your ffmpeg and ffprobe executables\n",
    "# AudioSegment.ffmpeg = \"/opt/homebrew/bin/ffmpeg\"\n",
    "# AudioSegment.ffprobe = \"/opt/homebrew/bin/ffprobe\"\n",
    "os.environ[\"PATH\"] += f\"{os.pathsep}/opt/homebrew/bin\"\n",
    "\n",
    "# Load the input MP3 file\n",
    "input_file = \"./podcasts/the_home_run/How to prepare yourself to bid at an auction.mp3\"\n",
    "output_file = \"./podcasts/dev.mp3\"\n",
    "audio = AudioSegment.from_mp3(input_file)\n",
    "\n",
    "# Slice the first minute (60,000 milliseconds)\n",
    "first_minute = audio[:60_000]\n",
    "\n",
    "# Export the sliced audio as a new MP3 file\n",
    "first_minute.export(output_file, format=\"mp3\")"
   ]
  },
  {
   "attachments": {},
   "cell_type": "markdown",
   "metadata": {},
   "source": [
    "## Ingest"
   ]
  },
  {
   "cell_type": "code",
   "execution_count": 7,
   "metadata": {},
   "outputs": [
    {
     "data": {
      "text/plain": [
       "' Yes, this podcast is useful for you if you want to buy your first unit, as it provides tips and tools for first home buyers.'"
      ]
     },
     "execution_count": 7,
     "metadata": {},
     "output_type": "execute_result"
    }
   ],
   "source": [
    "qa = VectorDBQA.from_chain_type(llm=llm, chain_type=\"stuff\", vectorstore=vectordb)\n",
    "query = \"Is this podcast useful for me if I want to buy my first unit, I am a first home buyer\"\n",
    "qa.run(query)"
   ]
  }
 ],
 "metadata": {
  "kernelspec": {
   "display_name": "p310",
   "language": "python",
   "name": "python3"
  },
  "language_info": {
   "codemirror_mode": {
    "name": "ipython",
    "version": 3
   },
   "file_extension": ".py",
   "mimetype": "text/x-python",
   "name": "python",
   "nbconvert_exporter": "python",
   "pygments_lexer": "ipython3",
   "version": "3.10.10"
  },
  "orig_nbformat": 4
 },
 "nbformat": 4,
 "nbformat_minor": 2
}
